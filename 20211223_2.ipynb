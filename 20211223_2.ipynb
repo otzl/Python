{
 "cells": [
  {
   "cell_type": "markdown",
   "id": "1c427481",
   "metadata": {},
   "source": [
    "### 튜플(tuple)\n",
    "- 파이썬의 자료구조 형태 중 하나\n",
    "- 순서가 있는 집합 (인덱스)\n",
    "- 소괄호()로 작성되어지며, 콤마(,)로 구분된다.\n",
    "- 추가, 수정, 삭제 불가능하다.\n",
    "- 처리속도 향상 및 메모리 공간 절약\n",
    "- 값이 변하면 안되는 경우 사용한다\n",
    "- 구문을 더 간단하게 사용하는 경우"
   ]
  },
  {
   "cell_type": "code",
   "execution_count": 6,
   "id": "eb8eb5f3",
   "metadata": {},
   "outputs": [
    {
     "name": "stdout",
     "output_type": "stream",
     "text": [
      "(1, 2, ('My', 'Name'))\n"
     ]
    }
   ],
   "source": [
    "a = ()\n",
    "b = (1,2,3)\n",
    "c = ('My','Name')\n",
    "d = (1,2,'My','Name')\n",
    "e = (1,2,('My','Name'))\n",
    "print(e)"
   ]
  },
  {
   "cell_type": "code",
   "execution_count": 7,
   "id": "204251cb",
   "metadata": {},
   "outputs": [],
   "source": [
    "tuple1 = (0,1,2,3,('a','b','c'),5)"
   ]
  },
  {
   "cell_type": "code",
   "execution_count": 8,
   "id": "73b493b0",
   "metadata": {},
   "outputs": [
    {
     "data": {
      "text/plain": [
       "2"
      ]
     },
     "execution_count": 8,
     "metadata": {},
     "output_type": "execute_result"
    }
   ],
   "source": [
    "tuple1[2]"
   ]
  },
  {
   "cell_type": "code",
   "execution_count": 9,
   "id": "65a1322d",
   "metadata": {},
   "outputs": [
    {
     "data": {
      "text/plain": [
       "('a', 'b', 'c')"
      ]
     },
     "execution_count": 9,
     "metadata": {},
     "output_type": "execute_result"
    }
   ],
   "source": [
    "tuple1[4]"
   ]
  },
  {
   "cell_type": "code",
   "execution_count": 10,
   "id": "1a990dac",
   "metadata": {},
   "outputs": [
    {
     "data": {
      "text/plain": [
       "(1, 2)"
      ]
     },
     "execution_count": 10,
     "metadata": {},
     "output_type": "execute_result"
    }
   ],
   "source": [
    "tuple1[1:3]"
   ]
  },
  {
   "cell_type": "code",
   "execution_count": 11,
   "id": "5215576b",
   "metadata": {},
   "outputs": [
    {
     "data": {
      "text/plain": [
       "(3, ('a', 'b', 'c'), 5)"
      ]
     },
     "execution_count": 11,
     "metadata": {},
     "output_type": "execute_result"
    }
   ],
   "source": [
    "tuple1[3:]"
   ]
  },
  {
   "cell_type": "code",
   "execution_count": 12,
   "id": "da4f16db",
   "metadata": {},
   "outputs": [
    {
     "data": {
      "text/plain": [
       "6"
      ]
     },
     "execution_count": 12,
     "metadata": {},
     "output_type": "execute_result"
    }
   ],
   "source": [
    "len(tuple1)"
   ]
  },
  {
   "cell_type": "markdown",
   "id": "364899ad",
   "metadata": {},
   "source": [
    "### 데이터의 포함 여부 확인\n",
    "- in, not in"
   ]
  },
  {
   "cell_type": "code",
   "execution_count": 16,
   "id": "a27006ed",
   "metadata": {},
   "outputs": [],
   "source": [
    "str1 = '파이썬 최고'"
   ]
  },
  {
   "cell_type": "code",
   "execution_count": 17,
   "id": "5524e971",
   "metadata": {},
   "outputs": [
    {
     "data": {
      "text/plain": [
       "True"
      ]
     },
     "execution_count": 17,
     "metadata": {},
     "output_type": "execute_result"
    }
   ],
   "source": [
    "'파이썬' in str1"
   ]
  },
  {
   "cell_type": "code",
   "execution_count": 18,
   "id": "df5070f0",
   "metadata": {},
   "outputs": [
    {
     "data": {
      "text/plain": [
       "False"
      ]
     },
     "execution_count": 18,
     "metadata": {},
     "output_type": "execute_result"
    }
   ],
   "source": [
    "'파이썬' not in str1"
   ]
  },
  {
   "cell_type": "code",
   "execution_count": 19,
   "id": "79f8b8a2",
   "metadata": {},
   "outputs": [],
   "source": [
    "list1 = [77,38,10]"
   ]
  },
  {
   "cell_type": "code",
   "execution_count": 20,
   "id": "a27b2891",
   "metadata": {},
   "outputs": [
    {
     "data": {
      "text/plain": [
       "True"
      ]
     },
     "execution_count": 20,
     "metadata": {},
     "output_type": "execute_result"
    }
   ],
   "source": [
    "33 not in list1"
   ]
  },
  {
   "cell_type": "code",
   "execution_count": 21,
   "id": "e064ed20",
   "metadata": {},
   "outputs": [],
   "source": [
    "list_fruit = ['딸기','바나나','수박','체리','포도']"
   ]
  },
  {
   "cell_type": "code",
   "execution_count": 35,
   "id": "08453885",
   "metadata": {
    "scrolled": true
   },
   "outputs": [
    {
     "name": "stdout",
     "output_type": "stream",
     "text": [
      "*********************************************\n",
      "검색할 문자를 입력하세요 >> 사과\n",
      "사과은/는 리스트에 들어있지 않습니다.\n",
      "*********************************************\n"
     ]
    }
   ],
   "source": [
    "print('*'*45)\n",
    "text = input('검색할 문자를 입력하세요 >> ')\n",
    "if text in list_fruit :\n",
    "    print(f'{text}은/는 리스트에 {list_fruit.index(text)}에 들어있습니다.')\n",
    "else :\n",
    "    print(f'{text}은/는 리스트에 들어있지 않습니다.')\n",
    "print('*'*45)\n"
   ]
  },
  {
   "cell_type": "code",
   "execution_count": 36,
   "id": "9b971a87",
   "metadata": {},
   "outputs": [],
   "source": [
    "s = 'Hi, My name is woojin'"
   ]
  },
  {
   "cell_type": "code",
   "execution_count": 47,
   "id": "ce2be9ff",
   "metadata": {},
   "outputs": [
    {
     "name": "stdout",
     "output_type": "stream",
     "text": [
      "*********************************************\n",
      "검색할 문자를 입력하세요 : i\n",
      "i는 3번 들어 있습니다.\n",
      "*********************************************\n"
     ]
    }
   ],
   "source": [
    "print('*'*45)\n",
    "search = input('검색할 문자를 입력하세요 : ')\n",
    "if search not in s :\n",
    "    print(f'{search}는 문자열에 들어있지 않습니다.')\n",
    "else :\n",
    "    print(f'{search}는 {s.count(search)}번 들어 있습니다.')\n",
    "print('*'*45)"
   ]
  },
  {
   "cell_type": "markdown",
   "id": "db46a635",
   "metadata": {},
   "source": [
    "### 반복문\n",
    "- while문 : 반복 횟수가 명확하지 않을 때 사용\n",
    "- for문 : 반복 횟수가 명확할 때 사용"
   ]
  },
  {
   "cell_type": "code",
   "execution_count": null,
   "id": "c725cb8a",
   "metadata": {},
   "outputs": [],
   "source": [
    "while 조건문 :\n",
    "    실행문장"
   ]
  },
  {
   "cell_type": "code",
   "execution_count": 49,
   "id": "2ae61af3",
   "metadata": {},
   "outputs": [
    {
     "name": "stdout",
     "output_type": "stream",
     "text": [
      "1파이썬 최고!!\n",
      "2파이썬 최고!!\n",
      "3파이썬 최고!!\n",
      "4파이썬 최고!!\n",
      "5파이썬 최고!!\n",
      "6파이썬 최고!!\n",
      "7파이썬 최고!!\n",
      "8파이썬 최고!!\n",
      "9파이썬 최고!!\n",
      "10파이썬 최고!!\n",
      "11파이썬 최고!!\n",
      "12파이썬 최고!!\n",
      "13파이썬 최고!!\n"
     ]
    }
   ],
   "source": [
    "num = 0\n",
    "while num < 13 :\n",
    "    num += 1\n",
    "    print(f'{num}파이썬 최고!!')"
   ]
  },
  {
   "cell_type": "code",
   "execution_count": null,
   "id": "2d7e47b5",
   "metadata": {},
   "outputs": [],
   "source": [
    "while True : \n",
    "    print('무한루프')\n",
    "    break"
   ]
  },
  {
   "cell_type": "code",
   "execution_count": 50,
   "id": "54c6b852",
   "metadata": {},
   "outputs": [
    {
     "name": "stdout",
     "output_type": "stream",
     "text": [
      "1\n",
      "2\n",
      "3\n"
     ]
    }
   ],
   "source": [
    "number = 1\n",
    "while True :\n",
    "    print(number)\n",
    "    number += 1\n",
    "    if number > 3 :\n",
    "        break"
   ]
  },
  {
   "cell_type": "code",
   "execution_count": 63,
   "id": "fc5858d1",
   "metadata": {},
   "outputs": [
    {
     "name": "stdout",
     "output_type": "stream",
     "text": [
      "첫 번째 정수 입력 >> 1\n",
      "두 번째 정수 입력 >> 2\n",
      "두 정수의 합 : 3\n",
      "첫 번째 정수 입력 >> 7\n",
      "두 번째 정수 입력 >> 3\n",
      "두 정수의 합 : 10\n",
      "첫 번째 정수 입력 >> 13\n",
      "두 번째 정수 입력 >> 77\n",
      "두 정수의 합 : 90\n",
      "첫 번째 정수 입력 >> 0\n",
      "두 번째 정수 입력 >> 0\n",
      "프로그램이 종료되었습니다.\n"
     ]
    }
   ],
   "source": [
    "while True:\n",
    "    num1 = int(input(\"첫 번째 정수 입력 >> \"))\n",
    "    num2 = int(input('두 번째 정수 입력 >> '))\n",
    "    if num1 == 0 and num2 == 0 :\n",
    "        print('프로그램이 종료되었습니다.')\n",
    "        break;\n",
    "    else : \n",
    "        print(f'두 정수의 합 : {num1 + num2}')"
   ]
  },
  {
   "cell_type": "code",
   "execution_count": 77,
   "id": "7ea2ca0f",
   "metadata": {},
   "outputs": [
    {
     "name": "stdout",
     "output_type": "stream",
     "text": [
      "현재 몸무게 : 80\n",
      "목표 몸무게 : 70\n",
      "1주차 감량 몸무게 : 2\n",
      "2주차 감량 몸무게 : 3\n",
      "3주차 감량 몸무게 : 4\n",
      "4주차 감량 몸무게 : 5\n",
      "66kg 달성!! 축하합니다!\n"
     ]
    }
   ],
   "source": [
    "present = int(input('현재 몸무게 : '))\n",
    "goal = int(input('목표 몸무게 : '))\n",
    "n = 1\n",
    "sum = 0\n",
    "while True :\n",
    "    weight = int(input(f'{n}주차 감량 몸무게 : '))\n",
    "    n += 1\n",
    "    sum += weight\n",
    "    if present - goal <= sum :\n",
    "        print(f'{present-sum}kg 달성!! 축하합니다!')\n",
    "        break\n",
    "    "
   ]
  },
  {
   "cell_type": "code",
   "execution_count": 78,
   "id": "e0bcd3f4",
   "metadata": {},
   "outputs": [
    {
     "name": "stdout",
     "output_type": "stream",
     "text": [
      "안\n",
      "녕\n",
      "하\n",
      "세\n",
      "요\n"
     ]
    }
   ],
   "source": [
    "s = '안녕하세요'\n",
    "for i in s :\n",
    "    print(i)"
   ]
  },
  {
   "cell_type": "code",
   "execution_count": 79,
   "id": "1ea377e3",
   "metadata": {},
   "outputs": [
    {
     "name": "stdout",
     "output_type": "stream",
     "text": [
      "햄버거\n",
      "치킨\n",
      "피자\n"
     ]
    }
   ],
   "source": [
    "tuple_food = ('햄버거', '치킨', '피자')\n",
    "for food in tuple_food:\n",
    "    print(food)"
   ]
  },
  {
   "cell_type": "code",
   "execution_count": null,
   "id": "ff026c54",
   "metadata": {},
   "outputs": [],
   "source": []
  },
  {
   "cell_type": "code",
   "execution_count": null,
   "id": "72c56fef",
   "metadata": {},
   "outputs": [],
   "source": []
  },
  {
   "cell_type": "code",
   "execution_count": null,
   "id": "57a7526a",
   "metadata": {},
   "outputs": [],
   "source": []
  },
  {
   "cell_type": "code",
   "execution_count": null,
   "id": "03e5ba13",
   "metadata": {},
   "outputs": [],
   "source": []
  },
  {
   "cell_type": "code",
   "execution_count": null,
   "id": "04605e13",
   "metadata": {},
   "outputs": [],
   "source": []
  },
  {
   "cell_type": "code",
   "execution_count": null,
   "id": "45791c3b",
   "metadata": {},
   "outputs": [],
   "source": []
  }
 ],
 "metadata": {
  "kernelspec": {
   "display_name": "Python 3 (ipykernel)",
   "language": "python",
   "name": "python3"
  },
  "language_info": {
   "codemirror_mode": {
    "name": "ipython",
    "version": 3
   },
   "file_extension": ".py",
   "mimetype": "text/x-python",
   "name": "python",
   "nbconvert_exporter": "python",
   "pygments_lexer": "ipython3",
   "version": "3.9.7"
  }
 },
 "nbformat": 4,
 "nbformat_minor": 5
}
